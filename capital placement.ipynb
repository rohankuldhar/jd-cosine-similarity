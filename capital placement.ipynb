{
 "cells": [
  {
   "cell_type": "code",
   "execution_count": 89,
   "id": "b7438af3",
   "metadata": {},
   "outputs": [],
   "source": [
    "import PyPDF2\n",
    "import warnings\n",
    "from sklearn.feature_extraction.text import CountVectorizer\n",
    "from sklearn.metrics.pairwise import cosine_similarity\n",
    "warnings.filterwarnings('ignore')"
   ]
  },
  {
   "cell_type": "code",
   "execution_count": 90,
   "id": "26f39611",
   "metadata": {
    "scrolled": true
   },
   "outputs": [],
   "source": [
    "from datasets import load_dataset\n",
    "\n",
    "dataset = load_dataset(\"jacob-hugging-face/job-descriptions\")"
   ]
  },
  {
   "cell_type": "code",
   "execution_count": 81,
   "id": "430fc970",
   "metadata": {
    "scrolled": true
   },
   "outputs": [
    {
     "data": {
      "text/plain": [
       "'{\\'company_name\\': \\'Google\\', \\'job_description\\': \\'minimum qualifications\\\\nbachelors degree or equivalent practical experience years of experience in saas or productivity tools businessexperience managing enterprise accounts with sales cycles\\\\npreferred qualifications\\\\n years of experience building strategic business partnerships with enterprise customersability to work through and with a reseller ecosystem to scale the businessability to plan pitch and execute a territory business strategyability to build relationships and to deliver results in a crossfunctionalmatrixed environmentability to identify crosspromoting and uppromoting opportunities within the existing account baseexcellent account management writtenverbal communication strategic and analyticalthinking skills\\\\nabout the job\\\\nas a member of the google cloud team you inspire leading companies schools and government agencies to work smarter with google tools like google workspace search and chrome you advocate the innovative power of our products to make organizations more productive collaborative and mobile your guiding light is doing whats right for the customer you will meet customers exactly where they are at and provide them the best solutions for innovation using your passion for google products you help spread the magic of google to organizations around the world\\\\nthe google workspace team helps customers transform and evolve their business through the use of googles productivity collaboration and content management suite of applications as part of an entrepreneurial team in this growing business you will help shape the future of businesses use technology to connect with customers employees and partners\\\\nas a google workspace sales specialist you will be responsible for maintenance and expansion of google workspace business growth across the region with customers in this role youll create and execute the strategy and provide unique insights on applying google workspace solutions to enterprisesyou will build an excellent pipeline and work with the account teams to build out the customer solution and establish partnerships you will strategize with partners to increase account and territory business growth you will work directly with customers coordinate internal resources and construct successful strategies at account and territory level\\\\ngoogle cloud accelerates organizations ability to digitally transform their business with the best infrastructure platform industry solutions and expertise we deliver enterprisegrade solutions that leverage googles cuttingedge technology  all on the cleanest cloud in the industry customers in more than  countries and territories turn to google cloud as their trusted partner to enable growth and solve their most critical business problems\\', \\'position_title\\': \\'Sales Specialist\\', \\'description_length\\': 2727, \\'model_response\\': \\' {\\\\n  \"Core Responsibilities\": \"Responsible for expanding Google Workspace product adoption across an assigned territory. Build relationships with customers to understand needs and provide Google Workspace solutions. Partner with account teams to construct solutions and grow business for Google Workspace.\",\\\\n  \"Required Skills\": \"Bachelor\\\\\\'s degree or equivalent experience. Experience managing enterprise SaaS accounts and sales cycles.\", \\\\n  \"Educational Requirements\": \"Bachelor\\\\\\'s degree or equivalent experience.\",\\\\n  \"Experience Level\": \"Experience managing enterprise SaaS accounts and sales cycles.\",\\\\n  \"Preferred Qualifications\": \"Experience building strategic partnerships with enterprise customers. Ability to work through a reseller ecosystem. Excellent communication and strategic thinking skills.\",\\\\n  \"Compensation and Benefits\": \"N/A\"\\\\n}\\'}'"
      ]
     },
     "execution_count": 81,
     "metadata": {},
     "output_type": "execute_result"
    }
   ],
   "source": [
    "jd=str(dataset['train'][0])\n",
    "jd"
   ]
  },
  {
   "cell_type": "code",
   "execution_count": null,
   "id": "4a3f2325",
   "metadata": {
    "scrolled": true
   },
   "outputs": [],
   "source": [
    "with zipfile.ZipFile(\"archive_11.zip\", mode=\"r\") as archive:\n",
    "    name =archive.namelist()[1:len(archive.namelist())]\n",
    "    \n",
    "    # creating empty list to store cv name and similarity score\n",
    "    \n",
    "    lst=[]\n",
    "    \n",
    "    for i in name:\n",
    "        with archive.open(i,mode=\"r\") as fp:\n",
    "            \n",
    "            # extracting text from cv\n",
    "            \n",
    "            pdf_reader = PyPDF2.PdfReader(fp)\n",
    "            pdf_text = \"\"\n",
    "            for page in pdf_reader.pages:\n",
    "                pdf_text += page.extract_text()\n",
    "                \n",
    "                # creating list of cv data and job description\n",
    "                \n",
    "                text = [pdf_text,jd]\n",
    "                \n",
    "                # calculating embeddings using count vectoriser\n",
    "                \n",
    "                cv = CountVectorizer()\n",
    "                count_matrix = cv.fit_transform(text)\n",
    "                \n",
    "                # calculating cosine similarity score\n",
    "                \n",
    "                matchpercentage = cosine_similarity(count_matrix)[0][1]\n",
    "                matchpercentage = round(matchpercentage*100,2)\n",
    "                \n",
    "                \n",
    "                lst.append((i,matchpercentage))\n",
    "                print('Your Resume', i,'{} % match to the job description !'.format(matchpercentage))"
   ]
  },
  {
   "cell_type": "markdown",
   "id": "612c4d35",
   "metadata": {},
   "source": [
    "## These five cv have top cosine similarity score for sales specialist position in google"
   ]
  },
  {
   "cell_type": "code",
   "execution_count": 92,
   "id": "edb36f7e",
   "metadata": {},
   "outputs": [
    {
     "data": {
      "text/plain": [
       "[('data/data/BANKING/17189156.pdf', 75.81),\n",
       " ('data/data/BANKING/17189156.pdf', 75.4),\n",
       " ('data/data/BANKING/35483925.pdf', 75.25),\n",
       " ('data/data/CONSULTANT/15535920.pdf', 75.11),\n",
       " ('data/data/ADVOCATE/35474904.pdf', 74.96)]"
      ]
     },
     "execution_count": 92,
     "metadata": {},
     "output_type": "execute_result"
    }
   ],
   "source": [
    "lst.sort(key=lambda x:x[1],reverse=True)\n",
    "lst[:5]"
   ]
  },
  {
   "cell_type": "code",
   "execution_count": 93,
   "id": "a481b347",
   "metadata": {},
   "outputs": [
    {
     "data": {
      "text/plain": [
       "'{\\'company_name\\': \\'Apple\\', \\'job_description\\': \\'description\\\\nas an asc you will be highly influential in growing mind and market share of apple products while building longterm relationships with those who share your passion \\\\ncustomer experiences are driven through you and your partner team growing in an ever changing and challenging environment you strive for perfection whether its maintaining visual merchandising or helping to grow and develop your partner team\\\\n\\\\nqualifications\\\\na passion to help people understand how apple products can enrich their livesexcellent communication skills allowing you to be as comfortable in front of a small group as you are speaking with individuals years preferred working in a dynamic sales andor results driven environment as well as proven success developing customer loyaltyability to encourage a partner team and grow apple business\\', \\'position_title\\': \\'Apple Solutions Consultant\\', \\'description_length\\': 828, \\'model_response\\': \\' {\\\\n  \"Core Responsibilities\": \"as an asc you will be highly influential in growing mind and market share of apple products while building longterm relationships with those who share your passion customer experiences are driven through you and your partner team growing in an ever changing and challenging environment you strive for perfection whether its maintaining visual merchandising or helping to grow and develop your partner team\",\\\\n  \"Required Skills\": \"a passion to help people understand how apple products can enrich their livesexcellent communication skills allowing you to be as comfortable in front of a small group as you are speaking with individuals years preferred working in a dynamic sales andor results driven environment as well as proven success developing customer loyaltyability to encourage a partner team and grow apple business\",\\\\n  \"Educational Requirements\": \"N/A\",\\\\n  \"Experience Level\": \"years preferred\",\\\\n  \"Preferred Qualifications\": \"N/A\",\\\\n  \"Compensation and Benefits\": \"N/A\"\\\\n}\\'}'"
      ]
     },
     "execution_count": 93,
     "metadata": {},
     "output_type": "execute_result"
    }
   ],
   "source": [
    "jd=str(dataset['train'][1])\n",
    "jd"
   ]
  },
  {
   "cell_type": "code",
   "execution_count": null,
   "id": "43b9946b",
   "metadata": {},
   "outputs": [],
   "source": [
    "with zipfile.ZipFile(\"archive_11.zip\", mode=\"r\") as archive:\n",
    "    name =archive.namelist()[1:len(archive.namelist())]\n",
    "    \n",
    "    # creating empty list to store cv name and similarity score\n",
    "    \n",
    "    lst=[]\n",
    "    \n",
    "    for i in name:\n",
    "        with archive.open(i,mode=\"r\") as fp:\n",
    "            \n",
    "            # extracting text from cv\n",
    "            \n",
    "            pdf_reader = PyPDF2.PdfReader(fp)\n",
    "            pdf_text = \"\"\n",
    "            for page in pdf_reader.pages:\n",
    "                pdf_text += page.extract_text()\n",
    "                \n",
    "                # creating list of cv data and job description\n",
    "                \n",
    "                text = [pdf_text,jd]\n",
    "                \n",
    "                # calculating embeddings using count vectoriser\n",
    "                \n",
    "                cv = CountVectorizer()\n",
    "                count_matrix = cv.fit_transform(text)\n",
    "                \n",
    "                # calculating cosine similarity score\n",
    "                \n",
    "                matchpercentage = cosine_similarity(count_matrix)[0][1]\n",
    "                matchpercentage = round(matchpercentage*100,2)\n",
    "                \n",
    "                \n",
    "                lst.append((i,matchpercentage))\n",
    "                print('Your Resume', i,'{} % match to the job description !'.format(matchpercentage))"
   ]
  },
  {
   "cell_type": "markdown",
   "id": "64379f81",
   "metadata": {},
   "source": [
    "## These five cv have top cosine similarity score for solutions consultant position in apple"
   ]
  },
  {
   "cell_type": "code",
   "execution_count": 95,
   "id": "6ee1aadc",
   "metadata": {},
   "outputs": [
    {
     "data": {
      "text/plain": [
       "[('data/data/HR/24508725.pdf', 52.4),\n",
       " ('data/data/PUBLIC-RELATIONS/16103783.pdf', 51.93),\n",
       " ('data/data/PUBLIC-RELATIONS/16103783.pdf', 51.88),\n",
       " ('data/data/SALES/34303500.pdf', 51.56),\n",
       " ('data/data/HR/24508725.pdf', 51.49)]"
      ]
     },
     "execution_count": 95,
     "metadata": {},
     "output_type": "execute_result"
    }
   ],
   "source": [
    "lst.sort(key=lambda x:x[1],reverse=True)\n",
    "lst[:5]"
   ]
  },
  {
   "cell_type": "code",
   "execution_count": 96,
   "id": "e513c5d4",
   "metadata": {},
   "outputs": [
    {
     "data": {
      "text/plain": [
       "'{\\'company_name\\': \\'Netflix\\', \\'job_description\\': \\'its an amazing time to be joining netflix as we continue to transform entertainment globally netflix is the worlds leading internet entertainment service with over  million paid memberships in over  countries enjoying tv series documentaries and feature films across a wide variety of genres and languages members can watch as much as they want anytime anywhere on any internetconnected screen members can play pause and resume watching all without commercials or commitments\\\\n\\\\nthe consumer products team aspires to connect members to our content and each other by bringing their favorite stories to real life our products and campaigns should entertain delight and bring joy to our fans all over the world\\\\xa0\\\\n\\\\ndue to the expansion of licensees and categories we are in need of additional support with active and prospective partnerships for current and upcoming titles we are looking for a licensing coordinator who will work across the entire slate of netflix content to bring our content to life via compelling products they will support two managers who oversee the food and beverage toys and collectibles electronics and sporting goods categories focusing on us and canada regional opportunities the individual would be a taskmaster extraordinaire who will assist in the day to day deliverables working alongside internal as well as external partners the successful candidate will be a dynamic professional who has an understanding of the outbound licensing workflow and can roll up their sleeves to knock out tasks in an orderly and swift pace\\\\xa0\\\\n\\\\nkey responsibilities\\\\nhelp drive business by supporting licensing managers on tasks related to category management facilitating information between external and internal stakeholders and maintaining communication of product and partner planscoordinate with internal teams to gather and distribute brand and marketing updates to share out with licensing partnersmaintain and update title strategies with category licensing plans and activitycollaborate with licensing partners to obtain placement updates and distribute to internal business partnersassist licensing managers with compiling licensing recaps following product launches\\\\xa0schedule meetings and when needed draft and distribute meeting recaps to respective business partnersprepare distribute and track deal memos and final agreements to ensure deals are processed efficiently through all stepswork with licensing managers to prepare onboarding for new licenseesfacilitate receipt of forecasts and send royalty payment reminders as neededpartner with creative teams to keep product development on track to attain commercial objectives\\\\nwhat we need from you\\\\ndemonstrated  years of experience in preferably outbound licensing functionunderstanding of category manufacturing and sales cycle for toys andor food and beverage is preferredexperience working with reputable entertainment andor lifestyle brandsselfstarter motivated proactive and flexibleability to thrive under pressure in a fastpaced dynamic environmentpossess attention to details with superb organizational skillsmultitasker extraordinaire with ability to prioritizeexcellent communicator\\\\xa0alignment with our company\\\\xa0culture\\\\xa0and values\\', \\'position_title\\': \\'Licensing Coordinator - Consumer Products\\', \\'description_length\\': 3205, \\'model_response\\': \\' {\\\\n  \"Core Responsibilities\": \"Help drive business by supporting licensing managers on tasks related to category management, facilitating information between stakeholders, maintaining communication plans. Coordinate with internal teams to share brand and marketing updates with partners. Maintain and update title strategies and licensing plans. Collaborate with partners on product launches. Assist with licensing recaps, meetings, and agreements.\",\\\\n  \"Required Skills\": \"2+ years experience in preferably outbound licensing. Understanding of category manufacturing and sales cycles for toys/food/beverage preferred. Experience with entertainment/lifestyle brands. Self-starter, proactive, flexible. Thrives under pressure. Superb organizational and multitasking skills. Excellent communication skills.\", \\\\n  \"Educational Requirements\": \"N/A\",\\\\n  \"Experience Level\": \"2+ years experience in preferably outbound licensing\",\\\\n  \"Preferred Qualifications\": \"Understanding of category manufacturing and sales cycles for toys and/or food and beverage preferred. Experience working with reputable entertainment and/or lifestyle brands.\",\\\\n  \"Compensation and Benefits\": \"N/A\"\\\\n}\\'}'"
      ]
     },
     "execution_count": 96,
     "metadata": {},
     "output_type": "execute_result"
    }
   ],
   "source": [
    "jd=str(dataset['train'][2])\n",
    "jd"
   ]
  },
  {
   "cell_type": "code",
   "execution_count": null,
   "id": "5b9b39c0",
   "metadata": {},
   "outputs": [],
   "source": [
    "with zipfile.ZipFile(\"archive_11.zip\", mode=\"r\") as archive:\n",
    "    name =archive.namelist()[1:len(archive.namelist())]\n",
    "    \n",
    "    # creating empty list to store cv name and similarity score\n",
    "    \n",
    "    lst=[]\n",
    "    \n",
    "    for i in name:\n",
    "        with archive.open(i,mode=\"r\") as fp:\n",
    "            \n",
    "            # extracting text from cv\n",
    "            \n",
    "            pdf_reader = PyPDF2.PdfReader(fp)\n",
    "            pdf_text = \"\"\n",
    "            for page in pdf_reader.pages:\n",
    "                pdf_text += page.extract_text()\n",
    "                \n",
    "                # creating list of cv data and job description\n",
    "                \n",
    "                text = [pdf_text,jd]\n",
    "                \n",
    "                # calculating embeddings using count vectoriser\n",
    "                \n",
    "                cv = CountVectorizer()\n",
    "                count_matrix = cv.fit_transform(text)\n",
    "                \n",
    "                # calculating cosine similarity score\n",
    "                \n",
    "                matchpercentage = cosine_similarity(count_matrix)[0][1]\n",
    "                matchpercentage = round(matchpercentage*100,2)\n",
    "                \n",
    "                \n",
    "                lst.append((i,matchpercentage))\n",
    "                print('Your Resume', i,'{} % match to the job description !'.format(matchpercentage))"
   ]
  },
  {
   "cell_type": "markdown",
   "id": "f964b868",
   "metadata": {},
   "source": [
    "## These five cv have top cosine similarity score for licensing cordinator position in netflix"
   ]
  },
  {
   "cell_type": "code",
   "execution_count": 98,
   "id": "20de3816",
   "metadata": {},
   "outputs": [
    {
     "data": {
      "text/plain": [
       "[('data/data/DESIGNER/26496059.pdf', 80.43),\n",
       " ('data/data/DESIGNER/26496059.pdf', 80.24),\n",
       " ('data/data/SALES/17704246.pdf', 79.92),\n",
       " ('data/data/SALES/17704246.pdf', 79.73),\n",
       " ('data/data/SALES/17704246.pdf', 79.33)]"
      ]
     },
     "execution_count": 98,
     "metadata": {},
     "output_type": "execute_result"
    }
   ],
   "source": [
    "lst.sort(key=lambda x:x[1],reverse=True)\n",
    "lst[:5]"
   ]
  },
  {
   "cell_type": "code",
   "execution_count": 99,
   "id": "a31604d7",
   "metadata": {},
   "outputs": [
    {
     "data": {
      "text/plain": [
       "'{\\'company_name\\': \\'Robert Half\\', \\'job_description\\': \\'description\\\\n\\\\nweb designers looking to expand your professional reach welcome to robert half marketing  creative start the process with robert half today\\\\n\\\\nwe are searching for highly skilled web designers with experience working within corporate brand standards and guidelines the ideal candidates would have advanced skills in creating wireframes designing mobile applications landing pages interactive sites qa testing experience working with various interfaces and familiarity with uxui design principles candidates are expected to have strong skills in adobe photoshop illustrator and indesign any experience in html css and javascript is a major plus familiarity with content management systems is highly preferred\\\\n\\\\nthere is nothing more satisfying when looking for freelance and fulltime creative opportunities than working with someone who knows your area of expertise as industry professionals robert half marketing  creative is a team that puts your needs first and effectively represents you as a creative talent thats the kind of service youll receive from our team at robert half\\\\n\\\\nwe have marketing advertising and creative backgrounds just like yours  so were on your side right from the start could you ask for a better support team\\\\n\\\\nrequirements\\\\n  years experience in a web design role\\\\n experience working within a clients brand standards or guidelines\\\\n advanced skill in the adobe creative cloud\\\\n\\\\ninnovation starts with people\\\\n\\\\nrobert half is the worlds first and largest specialized talent solutions firm that connects highly qualified job seekers to opportunities at great companies we offer contract temporary and permanent placement solutions for finance and accounting technology marketing and creative legal and administrative and customer support roles\\\\n\\\\nrobert half puts you in the best position to succeed by advocating on your behalf and promoting you to employers we provide access to top jobs competitive compensation and benefits and free online training stay on top of every opportunity  even on the go\\\\n\\\\nquestions call your local office at  robert half will consider qualified applicants with criminal histories in a manner consistent with the requirements of the san francisco fair chance ordinance all applicants applying for us job openings must be legally authorized to work in the united states benefits are available to temporary professionals visit\\\\n\\\\n  robert half an equal opportunity employer mfdisabilityveterans by clicking apply now youre agreeing to\\', \\'position_title\\': \\'Web Designer\\', \\'description_length\\': 2489, \\'model_response\\': \\' {\\\\n  \"Core Responsibilities\": \"Designing websites, wireframes, landing pages, and mobile applications. Implementing designs using HTML, CSS, and JavaScript. QA testing sites and applications.\",\\\\n  \"Required Skills\": \"2+ years experience in web design. Proficiency with Adobe Creative Cloud (Photoshop, Illustrator, InDesign). Strong HTML, CSS, JavaScript skills. Familiarity with content management systems.\",  \\\\n  \"Educational Requirements\": \"N/A\",\\\\n  \"Experience Level\": \"2+ years\",\\\\n  \"Preferred Qualifications\": \"UX/UI design experience. Knowledge of brand standards and guidelines.\",\\\\n  \"Compensation and Benefits\": \"N/A\"\\\\n}\\'}'"
      ]
     },
     "execution_count": 99,
     "metadata": {},
     "output_type": "execute_result"
    }
   ],
   "source": [
    "jd=str(dataset['train'][3])\n",
    "jd"
   ]
  },
  {
   "cell_type": "code",
   "execution_count": null,
   "id": "7f5d512b",
   "metadata": {},
   "outputs": [],
   "source": [
    "with zipfile.ZipFile(\"archive_11.zip\", mode=\"r\") as archive:\n",
    "    name =archive.namelist()[1:len(archive.namelist())]\n",
    "    \n",
    "    # creating empty list to store cv name and similarity score\n",
    "    \n",
    "    lst=[]\n",
    "    \n",
    "    for i in name:\n",
    "        with archive.open(i,mode=\"r\") as fp:\n",
    "            \n",
    "            # extracting text from cv\n",
    "            \n",
    "            pdf_reader = PyPDF2.PdfReader(fp)\n",
    "            pdf_text = \"\"\n",
    "            for page in pdf_reader.pages:\n",
    "                pdf_text += page.extract_text()\n",
    "                \n",
    "                # creating list of cv data and job description\n",
    "                \n",
    "                text = [pdf_text,jd]\n",
    "                \n",
    "                # calculating embeddings using count vectoriser\n",
    "                \n",
    "                cv = CountVectorizer()\n",
    "                count_matrix = cv.fit_transform(text)\n",
    "                \n",
    "                # calculating cosine similarity score\n",
    "                \n",
    "                matchpercentage = cosine_similarity(count_matrix)[0][1]\n",
    "                matchpercentage = round(matchpercentage*100,2)\n",
    "                \n",
    "                \n",
    "                lst.append((i,matchpercentage))\n",
    "                print('Your Resume', i,'{} % match to the job description !'.format(matchpercentage))"
   ]
  },
  {
   "cell_type": "markdown",
   "id": "f5ba8952",
   "metadata": {},
   "source": [
    "## These five cv have top cosine similarity score for licensing web designer in robert half"
   ]
  },
  {
   "cell_type": "code",
   "execution_count": 101,
   "id": "3f910ce2",
   "metadata": {},
   "outputs": [
    {
     "data": {
      "text/plain": [
       "[('data/data/DESIGNER/13014900.pdf', 69.59),\n",
       " ('data/data/DESIGNER/26676567.pdf', 68.93),\n",
       " ('data/data/DESIGNER/26790545.pdf', 68.71),\n",
       " ('data/data/DESIGNER/13014900.pdf', 68.54),\n",
       " ('data/data/DESIGNER/26676567.pdf', 68.51)]"
      ]
     },
     "execution_count": 101,
     "metadata": {},
     "output_type": "execute_result"
    }
   ],
   "source": [
    "lst.sort(key=lambda x:x[1],reverse=True)\n",
    "lst[:5]"
   ]
  },
  {
   "cell_type": "code",
   "execution_count": 102,
   "id": "9d2c8083",
   "metadata": {},
   "outputs": [
    {
     "data": {
      "text/plain": [
       "'{\\'company_name\\': \\'TrackFive\\', \\'job_description\\': \\'at trackfive weve got big goals were on a mission to revolutionize recruiting with easytouse tools and platforms and we envision a future where we can fill every open job with a qualified candidate thats why were looking for pioneerspeople who blaze trails and are committed to doing great work we might be small but we are mightyweve got more than a decade of skin in the game yet weve managed to maintain our startup feel the trackfive culture is centered around hard work but we believe strongly in balance and having funin a nutshell we love coming to work we value different backgrounds and perspectives believing that together we can use our creativity and curiosity to make amazing things happen\\\\n\\\\nif youre ready to be a part of something exciting trackfive is currently searching for a talented web developer this position is not dependent on location and can be local to the office with hybrid or inoffice options available or fully remote\\\\n please note that a skills test may be a requirement for potential candidates in the interview process\\\\n\\\\nwhat youll do\\\\n\\\\nthe web developer is responsible for delivering robust solutions to our clients they work collaboratively to support trackfives existing web application portfolio and the successful delivery of new development initiatives\\\\n\\\\nthe life of a trackfive web developer\\\\n contribute to all phases of the development lifecycle by following internal procedures and coding standards\\\\n build  layouts from provided psd files\\\\n build dynamic web apps using phpmysqlframeworks\\\\n leverage rest services and other thirdparty apis\\\\n rapidly solve problems bugs and compatibility issues\\\\n troubleshoot test and maintain the core product software and databases to ensure strong optimization and functionality\\\\n develop and deploy new features to facilitate related procedures and tools as necessary\\\\n\\\\nskills necessary\\\\n  years or experience with html and csssass\\\\n  years of experience with programming php applications and lamp stack development\\\\n experience with   javascript and jquery\\\\n thorough understanding of relational databases and security relating to phpmysql\\\\n expert knowledge with content management systems either from your own design or from mvc frameworks such as zend laravel etc\\\\n ability to build and consume custom soap and rest apis\\\\n  years of experience writing unit testsdetailing procedures\\\\n selfmotivated requiring minimal supervision\\\\n exceptional organization and communication skills\\\\n\\\\nwhy you want to work at trackfive\\\\n free health insurance for employees with no waiting period\\\\n dental and vision insurance trackfive splits the cost with you\\\\n your birthday is a paid holiday\\\\n companypaid short and longterm disability insurance\\\\n companypaid life insurance\\\\n flex time\\\\n paid parental leave\\\\n companymatched retirement plan with no waiting or vesting period\\\\n the opportunity to workfromhome a few days a week\\\\n so much swag\\\\n cool inoffice perks like free snacks massages yoga and bringyourpettowork days just to name a few\\\\n the opportunity to work with a great group of people up to some very exciting things\\\\n the opportunity to attend our epic annual holiday party\\\\n trackfive is an equal opportunity employer\\', \\'position_title\\': \\'Web Developer\\', \\'description_length\\': 3167, \\'model_response\\': \\' {\\\\n  \"Core Responsibilities\": \"Build and layouts from provided PSD files, build dynamic web apps using PHP/MySQL frameworks, leverage REST services and other third-party APIs, rapidly solve problems/bugs and compatibility issues, troubleshoot test and maintain the core product software and databases\",\\\\n  \"Required Skills\": \"2+ years of experience with HTML and CSS/SASS, 2+ years of experience with programming PHP applications and LAMP stack development, experience with ES6 JavaScript and jQuery, thorough understanding of relational databases and security relating to PHP/MySQL, expert knowledge with content management systems either from your own design or from MVC frameworks such as Zend, Laravel etc., ability to build and consume custom SOAP and REST APIs, 2+ years of experience writing unit tests detailing procedures, self-motivated requiring minimal supervision, exceptional organization and communication skills\",\\\\n  \"Educational Requirements\": \"N/A\", \\\\n  \"Experience Level\": \"2+ years\",\\\\n  \"Preferred Qualifications\": \"N/A\",\\\\n  \"Compensation and Benefits\": \"Free health insurance for employees with no waiting period, dental and vision insurance (Trackfive splits the cost), paid birthday holiday, company-paid short and long-term disability insurance, company-paid life insurance, flex time, paid parental leave, company-matched retirement plan with no waiting or vesting period, work-from-home options, office perks like snacks/massages/pet days, opportunity to work with great people on exciting things, amazing holiday party\"\\\\n}\\'}'"
      ]
     },
     "execution_count": 102,
     "metadata": {},
     "output_type": "execute_result"
    }
   ],
   "source": [
    "jd=str(dataset['train'][4])\n",
    "jd"
   ]
  },
  {
   "cell_type": "code",
   "execution_count": null,
   "id": "b8fedbe4",
   "metadata": {},
   "outputs": [],
   "source": [
    "with zipfile.ZipFile(\"archive_11.zip\", mode=\"r\") as archive:\n",
    "    name =archive.namelist()[1:len(archive.namelist())]\n",
    "    \n",
    "    # creating empty list to store cv name and similarity score\n",
    "    \n",
    "    lst=[]\n",
    "    \n",
    "    for i in name:\n",
    "        with archive.open(i,mode=\"r\") as fp:\n",
    "            \n",
    "            # extracting text from cv\n",
    "            \n",
    "            pdf_reader = PyPDF2.PdfReader(fp)\n",
    "            pdf_text = \"\"\n",
    "            for page in pdf_reader.pages:\n",
    "                pdf_text += page.extract_text()\n",
    "                \n",
    "                # creating list of cv data and job description\n",
    "                \n",
    "                text = [pdf_text,jd]\n",
    "                \n",
    "                # calculating embeddings using count vectoriser\n",
    "                \n",
    "                cv = CountVectorizer()\n",
    "                count_matrix = cv.fit_transform(text)\n",
    "                \n",
    "                # calculating cosine similarity score\n",
    "                \n",
    "                matchpercentage = cosine_similarity(count_matrix)[0][1]\n",
    "                matchpercentage = round(matchpercentage*100,2)\n",
    "                \n",
    "                \n",
    "                lst.append((i,matchpercentage))\n",
    "                print('Your Resume', i,'{} % match to the job description !'.format(matchpercentage))"
   ]
  },
  {
   "cell_type": "markdown",
   "id": "af464d07",
   "metadata": {},
   "source": [
    "## These five cv have top cosine similarity score for licensing web developer in track five"
   ]
  },
  {
   "cell_type": "code",
   "execution_count": 104,
   "id": "b456d29b",
   "metadata": {},
   "outputs": [
    {
     "data": {
      "text/plain": [
       "[('data/data/DESIGNER/26496059.pdf', 77.65),\n",
       " ('data/data/DESIGNER/26496059.pdf', 77.5),\n",
       " ('data/data/HR/24508725.pdf', 76.76),\n",
       " ('data/data/SALES/17781039.pdf', 76.54),\n",
       " ('data/data/SALES/17704246.pdf', 76.44)]"
      ]
     },
     "execution_count": 104,
     "metadata": {},
     "output_type": "execute_result"
    }
   ],
   "source": [
    "lst.sort(key=lambda x:x[1],reverse=True)\n",
    "lst[:5]"
   ]
  },
  {
   "cell_type": "code",
   "execution_count": 105,
   "id": "63d739c9",
   "metadata": {},
   "outputs": [
    {
     "data": {
      "text/plain": [
       "'{\\'company_name\\': \\'DesignUps\\', \\'job_description\\': \\'designups is a nashville based design and interactive agency at designups we have a strong focus on elevating brands with our expertise in design and customer experience\\\\n\\\\nare you a frontend developer with a serious interest in design and ui this could be a great fit if so this job is for someone in the greater nashville area the majority of the work can be done remotely but we do require some time in our east nashville office location hey its not too bad to walk to five points pizza or wildcow for lunch\\\\n\\\\nthis is a contract position to start with a competitive hourly rate we would like to find the right person to join our team for a longterm role\\\\n\\\\nskills needed\\\\nstrong attention to design details typography ui etc\\\\ntranslating designs responsively for multiple screen sizes\\\\nfamiliarity with bootstrap or other similar frameworks\\\\nwordpress knowledge and desire to learn is a major bonus\\', \\'position_title\\': \\'Frontend Web Developer\\', \\'description_length\\': 892, \\'model_response\\': \\' {\\\\n  \"Core Responsibilities\": \"Translate designs responsively for multiple screen sizes. Work in WordPress. Frontend web development.\",\\\\n  \"Required Skills\": \"Strong attention to design details, typography, UI, etc. Familiarity with Bootstrap or similar frameworks. WordPress knowledge.\", \\\\n  \"Educational Requirements\": \"N/A\",\\\\n  \"Experience Level\": \"N/A\",\\\\n  \"Preferred Qualifications\": \"Desire to learn WordPress.\",\\\\n  \"Compensation and Benefits\": \"N/A\"\\\\n}\\'}'"
      ]
     },
     "execution_count": 105,
     "metadata": {},
     "output_type": "execute_result"
    }
   ],
   "source": [
    "jd=str(dataset['train'][5])\n",
    "jd"
   ]
  },
  {
   "cell_type": "code",
   "execution_count": null,
   "id": "345de0b3",
   "metadata": {},
   "outputs": [],
   "source": [
    "with zipfile.ZipFile(\"archive_11.zip\", mode=\"r\") as archive:\n",
    "    name =archive.namelist()[1:len(archive.namelist())]\n",
    "    \n",
    "    # creating empty list to store cv name and similarity score\n",
    "    \n",
    "    lst=[]\n",
    "    \n",
    "    for i in name:\n",
    "        with archive.open(i,mode=\"r\") as fp:\n",
    "            \n",
    "            # extracting text from cv\n",
    "            \n",
    "            pdf_reader = PyPDF2.PdfReader(fp)\n",
    "            pdf_text = \"\"\n",
    "            for page in pdf_reader.pages:\n",
    "                pdf_text += page.extract_text()\n",
    "                \n",
    "                # creating list of cv data and job description\n",
    "                \n",
    "                text = [pdf_text,jd]\n",
    "                \n",
    "                # calculating embeddings using count vectoriser\n",
    "                \n",
    "                cv = CountVectorizer()\n",
    "                count_matrix = cv.fit_transform(text)\n",
    "                \n",
    "                # calculating cosine similarity score\n",
    "                \n",
    "                matchpercentage = cosine_similarity(count_matrix)[0][1]\n",
    "                matchpercentage = round(matchpercentage*100,2)\n",
    "                \n",
    "                \n",
    "                lst.append((i,matchpercentage))\n",
    "                print('Your Resume', i,'{} % match to the job description !'.format(matchpercentage))"
   ]
  },
  {
   "cell_type": "markdown",
   "id": "62a9c6e5",
   "metadata": {},
   "source": [
    "## These five cv have top cosine similarity score for licensing frontend web developer in design ups"
   ]
  },
  {
   "cell_type": "code",
   "execution_count": 107,
   "id": "db5e24cf",
   "metadata": {},
   "outputs": [
    {
     "data": {
      "text/plain": [
       "[('data/data/PUBLIC-RELATIONS/13727873.pdf', 60.26),\n",
       " ('data/data/PUBLIC-RELATIONS/13727873.pdf', 59.45),\n",
       " ('data/data/DESIGNER/22675694.pdf', 58.64),\n",
       " ('data/data/HR/24508725.pdf', 55.55),\n",
       " ('data/data/HR/24508725.pdf', 55.45)]"
      ]
     },
     "execution_count": 107,
     "metadata": {},
     "output_type": "execute_result"
    }
   ],
   "source": [
    "lst.sort(key=lambda x:x[1],reverse=True)\n",
    "lst[:5]"
   ]
  },
  {
   "cell_type": "code",
   "execution_count": 108,
   "id": "4c319ad2",
   "metadata": {},
   "outputs": [
    {
     "data": {
      "text/plain": [
       "'{\\'company_name\\': \\'Equisolve, Inc.\\', \\'job_description\\': \\'about the position\\\\n\\\\nthe web designer is responsible for providing designrelated support for clientrelated and internal projects\\\\n\\\\nadditionally the web designer is responsible for providing designrelated support for projects that are currently in development client review and postlaunch when assigned\\\\n\\\\ndaytoday\\\\n collaborate closely with design managers on websiterelated projects including finishing projects that have a set art direction to hand over to the development team\\\\n work crossfunctionally with content and development teams which includes facilitating design discussions and adjusting existing designswebsites based on client feedback in preparation for the launch of their sites\\\\n partner with development teams to ensure the implementation of your designs and user experiences are of the highest quality\\\\n use and evolve our design systemlibrary to craft sketches flows prototypes and highfidelity visuals for client websites and product features\\\\n work closely with design leadership to inform and improve our processes identifying opportunities for elevating our product and user experience\\\\n provide designrelated support for postlaunch projects\\\\n\\\\nrequirements\\\\n\\\\nour ideal candidate\\\\n is detailoriented has an excellent eye for detail and enjoys delivering pixelperfect and welldocumented designs\\\\n knows how to design websites has experience working with and understanding responsive design patterns and systems\\\\n is prepared to take the baton and run gladly takes on projects with set art direction and finishes off remaining design production work\\\\n has design system experience has experience working with scalable design systems within an inhouse design team\\\\n is a team contributor more than willing to work with design managers to develop the strategy and rationale for features and improvements to internal processes\\\\n can speak up and be understood has strong verbal and written communication skills which is a must for a remote company\\\\n can adjust and pivot can navigate and move forward quickly within a fastscaling company and an everevolving creator website tool\\\\n is hungry to improve gladly welcome feedback on their own performance from design managers along with nondesigners with the intent of professional growth in the company\\\\n most importantly can joke around a sense of humor is a must in our company\\\\n\\\\nour company culture revolves around among other things working hard and laughing harder\\\\n\\\\nrequirements\\\\n  years of experience as an individual contributor on a web or product design team for desktop and mobile\\\\n an excellent portfolio showcasing a strong foundation in typography interaction and visual design and ideation\\\\n\\\\nbonus props for personal projects that display your design aesthetic and passions\\\\n solid understanding of building usable accessible ada and modular design systems that can scale\\\\n\\\\nbonus props for certification in or related to ada\\\\n experience facilitating the adoption of visual design andor patterns across a design project\\\\n excellent understanding of figma and other design tools\\\\n excellent written and verbal communication skills and ability to clearly communicate design decisions\\\\n strong organizational skills and a selfstarter\\\\n\\\\nbenefits\\\\n remote always\\\\n generous pto\\\\n allowance for continuing education or training\\\\n shiny new gear of your choice apple products\\\\n medical dental longterm and short term disability insurance\\\\n companysponsored life insurance\\\\n\\\\ndont meet  of the qualifications above thats okay apply anyway \\', \\'position_title\\': \\'Remote Website Designer\\', \\'description_length\\': 3471, \\'model_response\\': \\' {\\\\n  \"Core Responsibilities\": \"Provide design support for client and internal website projects. Collaborate with content and development teams. Ensure high-quality implementation of designs. Use and evolve the design system.\",\\\\n  \"Required Skills\": \"2+ years experience in web or product design. Portfolio showcasing typography, interaction and visual design skills. Understanding of responsive design and modular design systems. Figma and design tools proficiency. Strong communication skills. Self-starter.\",  \\\\n  \"Educational Requirements\": \"N/A\",\\\\n  \"Experience Level\": \"2+ years experience as an individual contributor on a web or product design team\",\\\\n  \"Preferred Qualifications\": \"Personal projects displaying design aesthetic and passions. ADA and accessibility certification. Experience facilitating visual design adoption. Ability to communicate design decisions.\",\\\\n  \"Compensation and Benefits\": \"Remote work. Generous PTO. Education/training allowance. Apple hardware. Insurance benefits. Company-sponsored life insurance.\"\\\\n}\\'}'"
      ]
     },
     "execution_count": 108,
     "metadata": {},
     "output_type": "execute_result"
    }
   ],
   "source": [
    "jd=str(dataset['train'][6])\n",
    "jd"
   ]
  },
  {
   "cell_type": "code",
   "execution_count": null,
   "id": "9f4eb39d",
   "metadata": {},
   "outputs": [],
   "source": [
    "with zipfile.ZipFile(\"archive_11.zip\", mode=\"r\") as archive:\n",
    "    name =archive.namelist()[1:len(archive.namelist())]\n",
    "    \n",
    "    # creating empty list to store cv name and similarity score\n",
    "    \n",
    "    lst=[]\n",
    "    \n",
    "    for i in name:\n",
    "        with archive.open(i,mode=\"r\") as fp:\n",
    "            \n",
    "            # extracting text from cv\n",
    "            \n",
    "            pdf_reader = PyPDF2.PdfReader(fp)\n",
    "            pdf_text = \"\"\n",
    "            for page in pdf_reader.pages:\n",
    "                pdf_text += page.extract_text()\n",
    "                \n",
    "                # creating list of cv data and job description\n",
    "                \n",
    "                text = [pdf_text,jd]\n",
    "                \n",
    "                # calculating embeddings using count vectoriser\n",
    "                \n",
    "                cv = CountVectorizer()\n",
    "                count_matrix = cv.fit_transform(text)\n",
    "                \n",
    "                # calculating cosine similarity score\n",
    "                \n",
    "                matchpercentage = cosine_similarity(count_matrix)[0][1]\n",
    "                matchpercentage = round(matchpercentage*100,2)\n",
    "                \n",
    "                \n",
    "                lst.append((i,matchpercentage))\n",
    "                print('Your Resume', i,'{} % match to the job description !'.format(matchpercentage))"
   ]
  },
  {
   "cell_type": "markdown",
   "id": "52047528",
   "metadata": {},
   "source": [
    "## These five cv have top cosine similarity score for licensing remote web designer in equisolve"
   ]
  },
  {
   "cell_type": "code",
   "execution_count": 110,
   "id": "cda8a4ef",
   "metadata": {},
   "outputs": [
    {
     "data": {
      "text/plain": [
       "[('data/data/DESIGNER/37263609.pdf', 78.74),\n",
       " ('data/data/DESIGNER/37263609.pdf', 77.89),\n",
       " ('data/data/APPAREL/15154822.pdf', 76.41),\n",
       " ('data/data/DESIGNER/11155153.pdf', 76.13),\n",
       " ('data/data/DESIGNER/11155153.pdf', 76.04)]"
      ]
     },
     "execution_count": 110,
     "metadata": {},
     "output_type": "execute_result"
    }
   ],
   "source": [
    "lst.sort(key=lambda x:x[1],reverse=True)\n",
    "lst[:5]"
   ]
  },
  {
   "cell_type": "code",
   "execution_count": 111,
   "id": "11730948",
   "metadata": {},
   "outputs": [
    {
     "data": {
      "text/plain": [
       "'{\\'company_name\\': \\'Zander Insurance Agency\\', \\'job_description\\': \\'job description\\\\n\\\\nzander insurance group is one of the largest direct marketers of insurance and identity theft solutions services in america our company was founded more than  years ago with the mission to protect families today millions of visitors browse our websites they are a vital way we acquire communicate with and keep our clients\\\\n\\\\nthe web designer will drive revenue growth through the design and optimization of all clientfacing zander web properties\\\\n\\\\nthe ideal candidate is comfortable working with highlevel stakeholders and they understand the importance of getting projects done efficiently most importantly the web designer enjoys working and as a result has a positive attitude that contributes to the overall health of the zander culture we are seeking a contributor who thrives while working autonomously asks questions when necessary and problem solves daily\\\\n\\\\nthis is a fulltime position and includes a competitive salary and comprehensive benefits this position reports directly to the evp of marketing and will be based in our nashville tennessee office with opportunities to work remotely\\\\n\\\\nresponsibilities include\\\\n designing compelling direct response websites and digital content that supports the zander brand campaign objectives and drives measurable actions\\\\n utilizing knowledge of zander products and services to create designs that support an action or campaign goal\\\\n creating designs that are compatible across multiple devices and screen sizes\\\\n creating mockups to conceptualize designs and presenting ideas to stakeholders\\\\n continually improving the existing user experiences and in the process driving revenue growth\\\\n preproduction image optimization and preparation\\\\n work with key stakeholders to ensure appropriate review and approvals for all clientfacing sites\\\\n\\\\nthe ideal candidate\\\\n  years of digital design experience driving online sales or marketing\\\\n has the ability to communicate effectively with highlevel clients\\\\n thrives in a fastpaced and teamoriented environment\\\\n is open to new ideas and able to adapt to changes quickly\\\\n  years of experience with\\\\n adobe creative suite including photoshop illustrator and indesign\\\\n sketch\\\\n has solid experience with ui wireframing\\\\n has a strong ability to articulate the why when presenting design concepts\\\\n htmlcss and js experience preferred but not required\\\\n\\\\nwhat we have to offer\\\\n potential to work from home\\\\n monthly profits distributions\\\\n health and dental insurance paid  by zander insurance\\\\n  dollarfordollar matching on your k\\\\n generous paid time off\\\\n\\\\nwe are an equal opportunity employer applicants are considered for position and are evaluated without regard to mental or physical disability race religion sexual orientation color gender national origin age marital status military or veteran status or any other protected local state or federal status unrelated to the performance of the work involved\\', \\'position_title\\': \\'Web Designer\\', \\'description_length\\': 2896, \\'model_response\\': \\' {\\\\n  \"Core Responsibilities\": \"Design compelling direct response websites and digital content that supports the brand campaign objectives and drives measurable actions. Utilize knowledge of company products and services to create effective designs. Create designs compatible across devices. Create mockups and present ideas to stakeholders. Continually improve user experiences and drive revenue growth.\",\\\\n  \"Required Skills\": \"2+ years of digital design experience driving online sales or marketing. Ability to communicate effectively with high-level clients. Able to thrive in a fast-paced, team environment. Open to new ideas and able to adapt quickly. Proficiency with Adobe Creative Suite including Photoshop, Illustrator, and InDesign. Experience with Sketch and UI wireframing. Ability to articulate design concepts. HTML/CSS/JS experience preferred but not required.\",  \\\\n  \"Educational Requirements\": \"N/A\",\\\\n  \"Experience Level\": \"2+ years of relevant digital design experience\",\\\\n  \"Preferred Qualifications\": \"HTML/CSS/JS experience\",\\\\n  \"Compensation and Benefits\": \"Competitive salary, monthly profit distributions, health/dental insurance paid 100% by company, 401k matching, generous paid time off, potential for remote work\"\\\\n}\\'}'"
      ]
     },
     "execution_count": 111,
     "metadata": {},
     "output_type": "execute_result"
    }
   ],
   "source": [
    "jd=str(dataset['train'][7])\n",
    "jd"
   ]
  },
  {
   "cell_type": "code",
   "execution_count": null,
   "id": "ccd33d16",
   "metadata": {},
   "outputs": [],
   "source": [
    "with zipfile.ZipFile(\"archive_11.zip\", mode=\"r\") as archive:\n",
    "    name =archive.namelist()[1:len(archive.namelist())]\n",
    "    \n",
    "    # creating empty list to store cv name and similarity score\n",
    "    \n",
    "    lst=[]\n",
    "    \n",
    "    for i in name:\n",
    "        with archive.open(i,mode=\"r\") as fp:\n",
    "            \n",
    "            # extracting text from cv\n",
    "            \n",
    "            pdf_reader = PyPDF2.PdfReader(fp)\n",
    "            pdf_text = \"\"\n",
    "            for page in pdf_reader.pages:\n",
    "                pdf_text += page.extract_text()\n",
    "                \n",
    "                # creating list of cv data and job description\n",
    "                \n",
    "                text = [pdf_text,jd]\n",
    "                \n",
    "                # calculating embeddings using count vectoriser\n",
    "                \n",
    "                cv = CountVectorizer()\n",
    "                count_matrix = cv.fit_transform(text)\n",
    "                \n",
    "                # calculating cosine similarity score\n",
    "                \n",
    "                matchpercentage = cosine_similarity(count_matrix)[0][1]\n",
    "                matchpercentage = round(matchpercentage*100,2)\n",
    "                \n",
    "                \n",
    "                lst.append((i,matchpercentage))\n",
    "                print('Your Resume', i,'{} % match to the job description !'.format(matchpercentage))"
   ]
  },
  {
   "cell_type": "markdown",
   "id": "6979cf54",
   "metadata": {},
   "source": [
    "## These five cv have top cosine similarity score for licensing remote web designer in zander insurance agency"
   ]
  },
  {
   "cell_type": "code",
   "execution_count": 113,
   "id": "746646f4",
   "metadata": {},
   "outputs": [
    {
     "data": {
      "text/plain": [
       "[('data/data/DESIGNER/26790545.pdf', 78.54),\n",
       " ('data/data/DESIGNER/26790545.pdf', 77.76),\n",
       " ('data/data/AGRICULTURE/26070334.pdf', 77.32),\n",
       " ('data/data/HR/24508725.pdf', 77.22),\n",
       " ('data/data/AVIATION/10189110.pdf', 77.11)]"
      ]
     },
     "execution_count": 113,
     "metadata": {},
     "output_type": "execute_result"
    }
   ],
   "source": [
    "lst.sort(key=lambda x:x[1],reverse=True)\n",
    "lst[:5]"
   ]
  },
  {
   "cell_type": "code",
   "execution_count": 114,
   "id": "9a7bb503",
   "metadata": {},
   "outputs": [
    {
     "data": {
      "text/plain": [
       "'{\\'company_name\\': \\'Tuff\\', \\'job_description\\': \\'tuff is a growth marketing team working with clients to drive growth by creating managing measuring and optimizing highperforming user acquisition campaigns were a fully remote and small team with endless opportunities for autonomy ownership and impact\\\\n\\\\nwe work with clients in nearly every industry and a typical engagement with tuff includes paid search social ads seo content strategy creative and cro every account has a dedicated growth marketing lead and is supported by various channel experts\\\\n\\\\nfor this position we are looking for an experienced web designer to join our cro team you will be the third web designer joining the team  the cro team also includes a conversion rate optimization specialist and ux copywriter\\\\n\\\\nin this role you will work on designs in figma for existing website optimizations and landing page development across  different client accounts this could include testing out different ctas remediating the homepage or other core pages adding in new landing pages refining pricing pages updating user flows redesigning blogs and more\\\\n\\\\nrequirements\\\\n\\\\nabout you\\\\n you are a skilled web designer who has the flexibility and understanding to work on multiple established brands at once with quick mockup design turnarounds and have a strong understanding of how your designs will be translated in the web build process\\\\n you have  years of experience managing quickturnaround designdevelopment projects in various cms platforms webflow wordpress shopify contentful etc and landing page buildings unbounce and leadpages for startups and scaleups\\\\n you have strong project management skills setting up and adhering to detailed production timelines following up with team members to get what you need and organizing creative assets for developers\\\\n you have a clean aesthetic and a sharp eye for layout color and typography\\\\n youre a strategic thinker and understand how to design digital website experiences that are compelling you have a passion for brand building and can help push user experience forward across all digital touchpoints\\\\n youre curious and solutionoriented and enjoy finding new and innovative design solutions you can work independently but are keen to collaborate across disciplines with developers cro and ux copy to design fresh website experiences\\\\n\\\\nduring month  youll\\\\n shadow tuffs cro team lead on three existing tuff clients to learn more about their individual brands and ongoing cro and web design needs\\\\n adopt our existing development and design process by working with our existing web designers lyn and arturo\\\\n learn how to guide and own website project priorities timelines scopes and costs within the tuff process using teamwork and slack\\\\n design at least one website optimization and landing page for  different clients\\\\n\\\\nduring months    youll\\\\n work on various website designs ongoing monthly improvements for five tuff clients this includes testing out different ctas remediating the homepage or other core pages adding in new landing pages refining pricing pages updating user flows redesigning blogs and more\\\\n work with growth marketers and the cro team at tuff as well as content and creative to implement website designs and updates for clients\\\\n manage one to three developer contractorsfreelancers who will be responsible for implementing your designs on our clients sites\\\\n fully guide website project priorities timelines scopes and costs within the tuff process\\\\n\\\\nthings can change quickly at tuff this breakdown isnt prescriptive but intended to give you a better sense of the role\\\\n\\\\nbenefits\\\\n\\\\nabout you\\\\n you have  years of experience as a web designer with a background working on sites for companies in various industries\\\\n you have experience working with a creative production team and a familiarity with creative production tools mainly figma and adobe suite\\\\n you have an inclusive handson collaboration style with proven experience clearly communicating timelines and deliverables\\\\n you have a learning mindset you are committed to getting better every day\\\\n you have a bias toward action and are both efficient and adaptable\\\\n you are a driver focused on making an impact on the organization and clients every day\\\\n you have demonstrated success testing and uncovering useful insights and sharing them in an engaging form that inspires people to take action\\\\n\\\\nbenefits\\\\n\\\\nwe are a passionate team of thirty distributed across the us\\\\n\\\\nyoull work closely with the whole team in particular with elle creative strategist lyn web designer arturo web designer and kristin sr growth marketer coo to get up to speed on current clients and iterate on the cro and web design process at tuff\\\\n\\\\n fully remote  work from anywhere you want\\\\n\\\\n comprehensive health vision and dental coverage\\\\n\\\\n k with matching\\\\n\\\\n unlimited pto policy  and we encourage you to take it\\\\n\\\\n parental leave   paid  weeks\\\\n\\\\n home office or coworking space stipend\\\\n\\\\n month internet reimbursement\\\\n\\\\n continuing training stipend of  annually\\\\n\\\\n wellness day every quarter\\\\n\\\\n annual team retreats\\\\n\\\\nthe starting salary range for this role is   we use a compensation formula that adjusts for experience\\\\n\\\\napplicants must be based in the us\\', \\'position_title\\': \\'Web Designer\\', \\'description_length\\': 5143, \\'model_response\\': \\' {\\\\n  \"Core Responsibilities\": \"Work on various website designs and ongoing monthly improvements for 5 clients. This includes testing CTAs, remediating core pages, adding landing pages, refining pricing pages, updating user flows, redesigning blogs, etc. Guide website project timelines, scopes and costs within the Tuff process.\",\\\\n  \"Required Skills\": \"3+ years experience as a web designer. Experience with creative production tools like Figma and Adobe Suite. Strong project management skills. Clean aesthetic and typography skills. Strategic thinker with passion for brand building and UX. Flexibility to work on multiple brands at once.\",\\\\n  \"Educational Requirements\": \"N/A\",\\\\n  \"Experience Level\": \"3+ years experience as a web designer\",\\\\n  \"Preferred Qualifications\": \"Experience working with creative production teams. Learning mindset committed to continuous improvement. Bias toward action, efficiency and adaptability. Success testing and uncovering insights.\",\\\\n  \"Compensation and Benefits\": \"$110,000-$150,000 salary range. Comprehensive health, dental and vision coverage. 401k with matching. Unlimited PTO. Parental leave. Home office stipend. Internet reimbursement. Annual team retreats.\"\\\\n}\\'}'"
      ]
     },
     "execution_count": 114,
     "metadata": {},
     "output_type": "execute_result"
    }
   ],
   "source": [
    "jd=str(dataset['train'][8])\n",
    "jd"
   ]
  },
  {
   "cell_type": "code",
   "execution_count": null,
   "id": "3c9d5f33",
   "metadata": {},
   "outputs": [],
   "source": [
    "with zipfile.ZipFile(\"archive_11.zip\", mode=\"r\") as archive:\n",
    "    name =archive.namelist()[1:len(archive.namelist())]\n",
    "    \n",
    "    # creating empty list to store cv name and similarity score\n",
    "    \n",
    "    lst=[]\n",
    "    \n",
    "    for i in name:\n",
    "        with archive.open(i,mode=\"r\") as fp:\n",
    "            \n",
    "            # extracting text from cv\n",
    "            \n",
    "            pdf_reader = PyPDF2.PdfReader(fp)\n",
    "            pdf_text = \"\"\n",
    "            for page in pdf_reader.pages:\n",
    "                pdf_text += page.extract_text()\n",
    "                \n",
    "                # creating list of cv data and job description\n",
    "                \n",
    "                text = [pdf_text,jd]\n",
    "                \n",
    "                # calculating embeddings using count vectoriser\n",
    "                \n",
    "                cv = CountVectorizer()\n",
    "                count_matrix = cv.fit_transform(text)\n",
    "                \n",
    "                # calculating cosine similarity score\n",
    "                \n",
    "                matchpercentage = cosine_similarity(count_matrix)[0][1]\n",
    "                matchpercentage = round(matchpercentage*100,2)\n",
    "                \n",
    "                \n",
    "                lst.append((i,matchpercentage))\n",
    "                print('Your Resume', i,'{} % match to the job description !'.format(matchpercentage))"
   ]
  },
  {
   "cell_type": "markdown",
   "id": "96199135",
   "metadata": {},
   "source": [
    "## These five cv have top cosine similarity score for licensing remote web designer in zander insurance tuff"
   ]
  },
  {
   "cell_type": "code",
   "execution_count": 116,
   "id": "30829593",
   "metadata": {},
   "outputs": [
    {
     "data": {
      "text/plain": [
       "[('data/data/DESIGNER/26496059.pdf', 75.84),\n",
       " ('data/data/DESIGNER/26496059.pdf', 75.83),\n",
       " ('data/data/DESIGNER/37664296.pdf', 75.16),\n",
       " ('data/data/SALES/17704246.pdf', 74.56),\n",
       " ('data/data/CONSULTANT/29297393.pdf', 74.53)]"
      ]
     },
     "execution_count": 116,
     "metadata": {},
     "output_type": "execute_result"
    }
   ],
   "source": [
    "lst.sort(key=lambda x:x[1],reverse=True)\n",
    "lst[:5]"
   ]
  },
  {
   "cell_type": "code",
   "execution_count": 117,
   "id": "a749fb07",
   "metadata": {},
   "outputs": [
    {
     "data": {
      "text/plain": [
       "'{\\'company_name\\': \\'General Dynamics Information Technology\\', \\'job_description\\': \\'type of requisition regular\\\\n\\\\nclearance level must be able to obtain none\\\\n\\\\njob family web design\\\\n\\\\ngdit has over  years of experience supporting the technology science and mission of the environmental protection agency gdit technologists scientists and innovators are experts in moving applications to the cloud modeling massive data sets in highperformance computing environments supporting innovative and bleeding edge technologies and scientific initiatives defending the cyber landscape and driving automation\\\\n\\\\nhighlevel skills\\\\n htmlcssjavascript\\\\n drupal \\\\n section  compliance expertise pertaining to pdfs adobe acrobat pro videos interactive trainings websites and web applications jaws dragon zoomtext articulate\\\\n graphics design adobe photoshop illustrator after effects and lightroom\\\\n\\\\nspecific tasks\\\\n designs and builds complex graphics page layouts and animation that suit web pages and enhance its layout to create visual appeal\\\\n creates an advanced detailed draft of the website outlining the various web pages according to client specifications and needs\\\\n provides thorough testing to ensure the website is userfriendly and interactive\\\\n provides thorough review of the final webpage design for the next level production\\\\n collaborates with other web professionals and provide guidance on the implementation of the website\\\\n stays current with the latest design software to improve in knowledge and skills and be able to create better design quality\\\\n provides guidance and leadership to lessexperienced web designer personnel\\\\n\\\\ndesired qualifications \\\\n\\\\nbabs or equivalent experience  years of experience\\\\n\\\\nadditional job description\\\\n\\\\ncovid vaccination gdit does not have a vaccination mandate applicable to all employees to protect the health and safety of its employees and to comply with customer requirements however gdit may require employees in certain positions to be fully vaccinated against covid vaccination requirements will depend on the status of the federal contractor mandate and customer site requirements\\\\n\\\\nwe are gdit the people supporting some of the most complex government defense and intelligence projects across the country we deliver bringing the expertise needed to understand and advance critical missions we transform shifting the ways clients invest in integrate and innovate technology solutions we ensure today is safe and tomorrow is smarter we are there on the ground beside our clients in the lab and everywhere in between offering the technology transformations strategy and mission services needed to get the job done\\\\n\\\\ngdit is an equal opportunityaffirmative action employer all qualified applicants will receive consideration for employment without regard to race color religion sex sexual orientation gender identity national origin disability or veteran status or any other protected class\\\\n\\\\ncovid vaccination gdit does not have a vaccination mandate applicable to all employees to protect the health and safety of its employees and to comply with customer requirements however gdit may require employees in certain positions to be fully vaccinated against covid vaccination requirements will depend on the status of the federal contractor mandate and customer site requirements\\\\n\\\\nwe are gdit the people supporting some of the most complex government defense and intelligence projects across the country we deliver bringing the expertise needed to understand and advance critical missions we transform shifting the ways clients invest in integrate and innovate technology solutions we ensure today is safe and tomorrow is smarter we are there on the ground beside our clients in the lab and everywhere in between offering the technology transformations strategy and mission services needed to get the job done\\\\n\\\\ngdit is an equal opportunityaffirmative action employer all qualified applicants will receive consideration for employment without regard to race color religion sex sexual orientation gender identity national origin disability or veteran status or any other protected class\\', \\'position_title\\': \\'SR. Web Designer\\', \\'description_length\\': 4023, \\'model_response\\': \\' {\\\\n  \"Core Responsibilities\": \"Designs and builds complex graphics, page layouts and animation for web pages. Creates detailed drafts of website outlines based on client needs. Provides thorough testing and review of final website designs.\",\\\\n  \"Required Skills\": \"Proficiency in HTML, CSS, JavaScript, Drupal, Adobe Photoshop, Illustrator, After Effects and Lightroom.\", \\\\n  \"Educational Requirements\": \"Bachelor\\\\\\'s degree or equivalent experience.\",\\\\n  \"Experience Level\": \"2+ years of experience\",\\\\n  \"Preferred Qualifications\": \"N/A\",\\\\n  \"Compensation and Benefits\": \"N/A\"\\\\n}\\'}'"
      ]
     },
     "execution_count": 117,
     "metadata": {},
     "output_type": "execute_result"
    }
   ],
   "source": [
    "jd=str(dataset['train'][9])\n",
    "jd"
   ]
  },
  {
   "cell_type": "code",
   "execution_count": null,
   "id": "2632fa10",
   "metadata": {},
   "outputs": [],
   "source": [
    "with zipfile.ZipFile(\"archive_11.zip\", mode=\"r\") as archive:\n",
    "    name =archive.namelist()[1:len(archive.namelist())]\n",
    "    \n",
    "    # creating empty list to store cv name and similarity score\n",
    "    \n",
    "    lst=[]\n",
    "    \n",
    "    for i in name:\n",
    "        with archive.open(i,mode=\"r\") as fp:\n",
    "            \n",
    "            # extracting text from cv\n",
    "            \n",
    "            pdf_reader = PyPDF2.PdfReader(fp)\n",
    "            pdf_text = \"\"\n",
    "            for page in pdf_reader.pages:\n",
    "                pdf_text += page.extract_text()\n",
    "                \n",
    "                # creating list of cv data and job description\n",
    "                \n",
    "                text = [pdf_text,jd]\n",
    "                \n",
    "                # calculating embeddings using count vectoriser\n",
    "                \n",
    "                cv = CountVectorizer()\n",
    "                count_matrix = cv.fit_transform(text)\n",
    "                \n",
    "                # calculating cosine similarity score\n",
    "                \n",
    "                matchpercentage = cosine_similarity(count_matrix)[0][1]\n",
    "                matchpercentage = round(matchpercentage*100,2)\n",
    "                \n",
    "                \n",
    "                lst.append((i,matchpercentage))\n",
    "                print('Your Resume', i,'{} % match to the job description !'.format(matchpercentage))"
   ]
  },
  {
   "cell_type": "markdown",
   "id": "ee5b4723",
   "metadata": {},
   "source": [
    "## These five cv have top cosine similarity score for licensing web designer in zander general dynamics"
   ]
  },
  {
   "cell_type": "code",
   "execution_count": 119,
   "id": "bd5b3711",
   "metadata": {},
   "outputs": [
    {
     "data": {
      "text/plain": [
       "[('data/data/FINANCE/28973180.pdf', 81.91),\n",
       " ('data/data/CONSULTANT/11835339.pdf', 81.67),\n",
       " ('data/data/ACCOUNTANT/10554236.pdf', 79.77),\n",
       " ('data/data/AGRICULTURE/12341902.pdf', 79.77),\n",
       " ('data/data/ACCOUNTANT/10554236.pdf', 79.68)]"
      ]
     },
     "execution_count": 119,
     "metadata": {},
     "output_type": "execute_result"
    }
   ],
   "source": [
    "lst.sort(key=lambda x:x[1],reverse=True)\n",
    "lst[:5]"
   ]
  }
 ],
 "metadata": {
  "kernelspec": {
   "display_name": "Python 3 (ipykernel)",
   "language": "python",
   "name": "python3"
  },
  "language_info": {
   "codemirror_mode": {
    "name": "ipython",
    "version": 3
   },
   "file_extension": ".py",
   "mimetype": "text/x-python",
   "name": "python",
   "nbconvert_exporter": "python",
   "pygments_lexer": "ipython3",
   "version": "3.8.5"
  }
 },
 "nbformat": 4,
 "nbformat_minor": 5
}
